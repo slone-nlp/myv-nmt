{
 "cells": [
  {
   "cell_type": "code",
   "execution_count": 1,
   "id": "6c080b1c",
   "metadata": {},
   "outputs": [],
   "source": [
    "ARTICLES_LOAD_ROOT = \"../../data-2023/raw/articles/articles\""
   ]
  },
  {
   "cell_type": "code",
   "execution_count": 372,
   "id": "3dd853c8",
   "metadata": {},
   "outputs": [],
   "source": [
    "import os\n",
    "import pandas as pd\n",
    "import numpy as np\n",
    "from tqdm.auto import tqdm, trange\n",
    "import random\n",
    "import json\n",
    "import razdel\n",
    "import re\n",
    "import matplotlib.pyplot as plt\n",
    "import xxhash"
   ]
  },
  {
   "cell_type": "code",
   "execution_count": 3,
   "id": "ffdad85a",
   "metadata": {},
   "outputs": [],
   "source": [
    "import torch\n",
    "from transformers import AutoTokenizer, AutoModel"
   ]
  },
  {
   "cell_type": "code",
   "execution_count": 4,
   "id": "a16485c0",
   "metadata": {},
   "outputs": [],
   "source": [
    "model_name = \"slone/LaBSE-en-ru-myv-v2\""
   ]
  },
  {
   "cell_type": "code",
   "execution_count": 5,
   "id": "f50e0888",
   "metadata": {},
   "outputs": [],
   "source": [
    "tokenizer = AutoTokenizer.from_pretrained(model_name)\n",
    "model = AutoModel.from_pretrained(model_name).cuda();"
   ]
  },
  {
   "cell_type": "code",
   "execution_count": 441,
   "id": "d6807aa7",
   "metadata": {},
   "outputs": [],
   "source": [
    "import slone_nmt.document_alignment\n",
    "from importlib import reload\n",
    "reload(slone_nmt.document_alignment)\n",
    "\n",
    "from slone_nmt.document_alignment import align3, embed, get_penalized_sims, align_docs"
   ]
  },
  {
   "cell_type": "markdown",
   "id": "0a07b9d0",
   "metadata": {},
   "source": [
    "# looking at the data"
   ]
  },
  {
   "cell_type": "code",
   "execution_count": 13,
   "id": "635241be",
   "metadata": {},
   "outputs": [
    {
     "name": "stdout",
     "output_type": "stream",
     "text": [
      "4075\n"
     ]
    }
   ],
   "source": [
    "filenames = os.listdir(ARTICLES_LOAD_ROOT)\n",
    "print(len(filenames))"
   ]
  },
  {
   "cell_type": "code",
   "execution_count": 27,
   "id": "6471bddc",
   "metadata": {},
   "outputs": [
    {
     "data": {
      "application/vnd.jupyter.widget-view+json": {
       "model_id": "334857094cf2468b92ab7f96709f2275",
       "version_major": 2,
       "version_minor": 0
      },
      "text/plain": [
       "  0%|          | 0/4075 [00:00<?, ?it/s]"
      ]
     },
     "metadata": {},
     "output_type": "display_data"
    }
   ],
   "source": [
    "fn2data = {}\n",
    "for fn in tqdm(filenames):\n",
    "    if not fn.endswith('.json'):\n",
    "        continue\n",
    "    with open(f\"{ARTICLES_LOAD_ROOT}/{fn}\", \"r\", encoding='utf-8') as f:\n",
    "        item = json.load(f)\n",
    "    fn2data[fn] = item"
   ]
  },
  {
   "cell_type": "code",
   "execution_count": 38,
   "id": "766e387b",
   "metadata": {},
   "outputs": [
    {
     "name": "stdout",
     "output_type": "stream",
     "text": [
      "{('article_erz', 'article_rus_candidates')}\n"
     ]
    }
   ],
   "source": [
    "print({tuple(item.keys()) for item in fn2data.values()})"
   ]
  },
  {
   "cell_type": "code",
   "execution_count": 50,
   "id": "9d18b6ef",
   "metadata": {},
   "outputs": [
    {
     "data": {
      "text/plain": [
       "0     571\n",
       "1    3317\n",
       "2     137\n",
       "3      36\n",
       "4       9\n",
       "5       2\n",
       "8       2\n",
       "dtype: int64"
      ]
     },
     "execution_count": 50,
     "metadata": {},
     "output_type": "execute_result"
    }
   ],
   "source": [
    "pd.Series([len(item['article_rus_candidates']) for item in fn2data.values()]).value_counts().sort_index()"
   ]
  },
  {
   "cell_type": "code",
   "execution_count": 81,
   "id": "df3558fa",
   "metadata": {},
   "outputs": [],
   "source": [
    "# check that each text starts with the line like \"15 февраля 2022\"\n",
    "for item in fn2data.values():\n",
    "    src_text = item['article_erz']['text']\n",
    "    assert re.match(\"[\\d]{1,2} [a-я]+[ая] [\\d]{4}\\n\", src_text)\n",
    "    for cand in item['article_rus_candidates']:\n",
    "        assert re.match(\"[\\d]{1,2} [a-я]+[ая] [\\d]{4}\\n\", cand['text'] + '\\n')"
   ]
  },
  {
   "cell_type": "code",
   "execution_count": 469,
   "id": "dc1f6160",
   "metadata": {},
   "outputs": [],
   "source": [
    "def resentenize_article(text):\n",
    "    lines = text.split('\\n')[1:]  # skip the first line, which is always just the date\n",
    "    if len(lines) == 0:\n",
    "        return []\n",
    "    if lines[-1] in {\n",
    "        'Пресс-служба Главы Республики Мордовия', \n",
    "        'Мордовия Республикань Прявтонть пресс-службась', \n",
    "        'Мордовия Республикань Прявтонь пресс-службась'\n",
    "    }:\n",
    "        lines = lines[:-1]\n",
    "    return [sent.text for sent in razdel.sentenize(' '.join(lines))]"
   ]
  },
  {
   "cell_type": "markdown",
   "id": "75200edd",
   "metadata": {},
   "source": [
    "## Playing with examples"
   ]
  },
  {
   "cell_type": "code",
   "execution_count": 457,
   "id": "0600d8ef",
   "metadata": {},
   "outputs": [
    {
     "name": "stdout",
     "output_type": "stream",
     "text": [
      "article_3768.json\n",
      "dict_keys(['article_erz', 'article_rus_candidates'])\n",
      "2\n"
     ]
    }
   ],
   "source": [
    "fn = random.choice(list(fn2data.keys()))\n",
    "print(fn)\n",
    "item = fn2data[fn]\n",
    "print(item.keys())\n",
    "print(len(item['article_rus_candidates']))"
   ]
  },
  {
   "cell_type": "code",
   "execution_count": 470,
   "id": "7c447b68",
   "metadata": {},
   "outputs": [],
   "source": [
    "src_text = item['article_erz']['text']\n",
    "tgt_text = item['article_rus_candidates'][0]['text']"
   ]
  },
  {
   "cell_type": "code",
   "execution_count": 471,
   "id": "4fd5617c",
   "metadata": {},
   "outputs": [],
   "source": [
    "src_sents = resentenize_article(src_text)\n",
    "tgt_sents = resentenize_article(tgt_text)"
   ]
  },
  {
   "cell_type": "code",
   "execution_count": 472,
   "id": "2a2786ea",
   "metadata": {},
   "outputs": [
    {
     "ename": "ValueError",
     "evalue": "need at least one array to concatenate",
     "output_type": "error",
     "traceback": [
      "\u001b[1;31m---------------------------------------------------------------------------\u001b[0m",
      "\u001b[1;31mValueError\u001b[0m                                Traceback (most recent call last)",
      "\u001b[1;32m<timed exec>\u001b[0m in \u001b[0;36m<module>\u001b[1;34m\u001b[0m\n",
      "\u001b[1;32m~\\YandexDisk\\code\\NLP\\myv\\myv-nmt\\slone_nmt\\document_alignment.py\u001b[0m in \u001b[0;36membed\u001b[1;34m(texts, model, tokenizer, max_length, batch_size)\u001b[0m\n\u001b[0;32m     56\u001b[0m \u001b[1;32mdef\u001b[0m \u001b[0malign3\u001b[0m\u001b[1;33m(\u001b[0m\u001b[0msims\u001b[0m\u001b[1;33m:\u001b[0m \u001b[0mnp\u001b[0m\u001b[1;33m.\u001b[0m\u001b[0mndarray\u001b[0m\u001b[1;33m)\u001b[0m \u001b[1;33m->\u001b[0m \u001b[0mtp\u001b[0m\u001b[1;33m.\u001b[0m\u001b[0mList\u001b[0m\u001b[1;33m[\u001b[0m\u001b[0mtp\u001b[0m\u001b[1;33m.\u001b[0m\u001b[0mTuple\u001b[0m\u001b[1;33m[\u001b[0m\u001b[0mint\u001b[0m\u001b[1;33m,\u001b[0m \u001b[0mint\u001b[0m\u001b[1;33m]\u001b[0m\u001b[1;33m]\u001b[0m\u001b[1;33m:\u001b[0m\u001b[1;33m\u001b[0m\u001b[1;33m\u001b[0m\u001b[0m\n\u001b[0;32m     57\u001b[0m     \u001b[1;31m# sims = np.dot(center_norm(orig_vecs), center_norm(sum_vecs).T) ** 3\u001b[0m\u001b[1;33m\u001b[0m\u001b[1;33m\u001b[0m\u001b[1;33m\u001b[0m\u001b[0m\n\u001b[1;32m---> 58\u001b[1;33m     \u001b[1;31m# sims = center_dot(orig_embeds, sum_embeds) #** 3\u001b[0m\u001b[1;33m\u001b[0m\u001b[1;33m\u001b[0m\u001b[1;33m\u001b[0m\u001b[0m\n\u001b[0m\u001b[0;32m     59\u001b[0m     \u001b[0mnrows\u001b[0m\u001b[1;33m,\u001b[0m \u001b[0mncols\u001b[0m \u001b[1;33m=\u001b[0m \u001b[0msims\u001b[0m\u001b[1;33m.\u001b[0m\u001b[0mshape\u001b[0m\u001b[1;33m\u001b[0m\u001b[1;33m\u001b[0m\u001b[0m\n\u001b[0;32m     60\u001b[0m \u001b[1;33m\u001b[0m\u001b[0m\n",
      "\u001b[1;32mc:\\users\\david\\appdata\\local\\programs\\python\\python39\\lib\\site-packages\\numpy\\core\\overrides.py\u001b[0m in \u001b[0;36mconcatenate\u001b[1;34m(*args, **kwargs)\u001b[0m\n",
      "\u001b[1;31mValueError\u001b[0m: need at least one array to concatenate"
     ]
    }
   ],
   "source": [
    "%%time\n",
    "\n",
    "src_embs = embed(src_sents, model, tokenizer)\n",
    "tgt_embs = embed(tgt_sents, model, tokenizer)"
   ]
  },
  {
   "cell_type": "code",
   "execution_count": 461,
   "id": "d5f84795",
   "metadata": {},
   "outputs": [
    {
     "name": "stdout",
     "output_type": "stream",
     "text": [
      "(7, 7)\n",
      "7\n"
     ]
    },
    {
     "data": {
      "image/png": "[encoded data removed]",
      "text/plain": [
       "<Figure size 432x288 with 1 Axes>"
      ]
     },
     "metadata": {
      "needs_background": "light"
     },
     "output_type": "display_data"
    }
   ],
   "source": [
    "sims, sims_rel = get_penalized_sims(src_sents, tgt_sents, src_embs, tgt_embs, rel_penalty=0.2, abs_penalty=0.2)\n",
    "\n",
    "print(sims_rel.shape)\n",
    "pair_ids = align3(sims_rel)\n",
    "print(len(pair_ids))\n",
    "plt.imshow(sims_rel);"
   ]
  },
  {
   "cell_type": "code",
   "execution_count": 462,
   "id": "3035f404",
   "metadata": {},
   "outputs": [],
   "source": [
    "pd.options.display.max_colwidth = 300\n",
    "pd.options.display.max_rows = 200"
   ]
  },
  {
   "cell_type": "code",
   "execution_count": 463,
   "id": "9ba5d35b",
   "metadata": {},
   "outputs": [
    {
     "name": "stdout",
     "output_type": "stream",
     "text": [
      "mean aligned penalized sim: 0.46136250730188194\n",
      "mean gross raw sim:         0.818253997358546\n"
     ]
    },
    {
     "data": {
      "text/html": [
       "<div>\n",
       "<style scoped>\n",
       "    .dataframe tbody tr th:only-of-type {\n",
       "        vertical-align: middle;\n",
       "    }\n",
       "\n",
       "    .dataframe tbody tr th {\n",
       "        vertical-align: top;\n",
       "    }\n",
       "\n",
       "    .dataframe thead th {\n",
       "        text-align: right;\n",
       "    }\n",
       "</style>\n",
       "<table border=\"1\" class=\"dataframe\">\n",
       "  <thead>\n",
       "    <tr style=\"text-align: right;\">\n",
       "      <th></th>\n",
       "      <th>src_sent_id</th>\n",
       "      <th>src_sent</th>\n",
       "      <th>tgt_sent_id</th>\n",
       "      <th>tgt_sent</th>\n",
       "      <th>sim</th>\n",
       "      <th>sim_pnlz</th>\n",
       "      <th>src_doc_hash</th>\n",
       "      <th>tgt_doc_hash</th>\n",
       "      <th>docs_sim</th>\n",
       "    </tr>\n",
       "  </thead>\n",
       "  <tbody>\n",
       "    <tr>\n",
       "      <th>0</th>\n",
       "      <td>0</td>\n",
       "      <td>Мордовиянь Прявтось Владимир Волков ноябрянь 14-це чистэ ютавтсь зярыя вастовомат Московсо.</td>\n",
       "      <td>0</td>\n",
       "      <td>Глава Мордовии Владимир Волков 14 ноября провел ряд рабочих встреч в Москве.</td>\n",
       "      <td>0.789928</td>\n",
       "      <td>0.446849</td>\n",
       "      <td>10bed7912eb506fb</td>\n",
       "      <td>593f0069fd2ae398</td>\n",
       "      <td>0.818254</td>\n",
       "    </tr>\n",
       "    <tr>\n",
       "      <th>1</th>\n",
       "      <td>1</td>\n",
       "      <td>Вастовкшнось Россиянь финансонь министерствань межбюджетной отношениятнень департаментэнь прявтонть Лариса Ерошкина марто.</td>\n",
       "      <td>1</td>\n",
       "      <td>Состоялась встреча с руководителем департамента межбюджетных отношений министерства финансов России Ларисой Ерошкиной.</td>\n",
       "      <td>0.917278</td>\n",
       "      <td>0.542011</td>\n",
       "      <td>10bed7912eb506fb</td>\n",
       "      <td>593f0069fd2ae398</td>\n",
       "      <td>0.818254</td>\n",
       "    </tr>\n",
       "    <tr>\n",
       "      <th>2</th>\n",
       "      <td>2</td>\n",
       "      <td>Кортавсть финансонь иень прядовоманть туртов республикантень лезксэнь явомань кевкстематне.</td>\n",
       "      <td>2</td>\n",
       "      <td>Обсуждались вопросы оказания поддержки республике для завершения финансового года.</td>\n",
       "      <td>0.824726</td>\n",
       "      <td>0.468978</td>\n",
       "      <td>10bed7912eb506fb</td>\n",
       "      <td>593f0069fd2ae398</td>\n",
       "      <td>0.818254</td>\n",
       "    </tr>\n",
       "    <tr>\n",
       "      <th>3</th>\n",
       "      <td>3</td>\n",
       "      <td>Истя жо мольсь кортамо 2018 иень футболонь коряс масторлангонь чемпионатонтень анокстамонь мероприятиятнень финансированиядост, истя жо коммерческой займамотнень полавтоманть туртов бюджетэнь кредитэнь получамодо.</td>\n",
       "      <td>3</td>\n",
       "      <td>В том числе речь шла о финансировании мероприятий подготовки к чемпионату мира по футболу 2018 года, а также получении бюджетного кредита на замещение коммерческих займов.</td>\n",
       "      <td>0.753850</td>\n",
       "      <td>0.412966</td>\n",
       "      <td>10bed7912eb506fb</td>\n",
       "      <td>593f0069fd2ae398</td>\n",
       "      <td>0.818254</td>\n",
       "    </tr>\n",
       "    <tr>\n",
       "      <th>4</th>\n",
       "      <td>4</td>\n",
       "      <td>Вастовомасонть ульнесь Мордовия Республикань Правительствань Председателень полавтыцясь - Финансонь министрась Алексей Симонов.</td>\n",
       "      <td>4</td>\n",
       "      <td>В рабочей встрече принял участие заместитель Председателя Правительства – министр финансов Республики Мордовия Алексей Симонов.</td>\n",
       "      <td>0.913352</td>\n",
       "      <td>0.530075</td>\n",
       "      <td>10bed7912eb506fb</td>\n",
       "      <td>593f0069fd2ae398</td>\n",
       "      <td>0.818254</td>\n",
       "    </tr>\n",
       "    <tr>\n",
       "      <th>5</th>\n",
       "      <td>5</td>\n",
       "      <td>Владимир Волков истя жо вастовкшнось \"Альфа-Банконь\" Прявттнэнь советэнь председателень васенце полавтыцянть Олег Сысуев марто ды кортась мартонзо республиканть ды банконть вейсэнь важодемань виевгавтомань кевкстематнеде.</td>\n",
       "      <td>5</td>\n",
       "      <td>Также Владимир Волков встретился с первым заместителем председателя Совета директоров «Альфа-Банка» Олегом Сысуевым и обсудил с ним вопросы развития сотрудничества республики и банка.</td>\n",
       "      <td>0.800758</td>\n",
       "      <td>0.450117</td>\n",
       "      <td>10bed7912eb506fb</td>\n",
       "      <td>593f0069fd2ae398</td>\n",
       "      <td>0.818254</td>\n",
       "    </tr>\n",
       "    <tr>\n",
       "      <th>6</th>\n",
       "      <td>6</td>\n",
       "      <td>Истя жо кортамось мольсь промышленностень ды велень хозяйствань прявт проекттнэнь туртов кредитэнь максомадо.</td>\n",
       "      <td>6</td>\n",
       "      <td>В том числе речь шла о кредитовании ряда важных проектов в промышленности и сельском хозяйстве.</td>\n",
       "      <td>0.727886</td>\n",
       "      <td>0.378541</td>\n",
       "      <td>10bed7912eb506fb</td>\n",
       "      <td>593f0069fd2ae398</td>\n",
       "      <td>0.818254</td>\n",
       "    </tr>\n",
       "  </tbody>\n",
       "</table>\n",
       "</div>"
      ],
      "text/plain": [
       "   src_sent_id  \\\n",
       "0            0   \n",
       "1            1   \n",
       "2            2   \n",
       "3            3   \n",
       "4            4   \n",
       "5            5   \n",
       "6            6   \n",
       "\n",
       "                                                                                                                                                                                                                        src_sent  \\\n",
       "0                                                                                                                                    Мордовиянь Прявтось Владимир Волков ноябрянь 14-це чистэ ютавтсь зярыя вастовомат Московсо.   \n",
       "1                                                                                                     Вастовкшнось Россиянь финансонь министерствань межбюджетной отношениятнень департаментэнь прявтонть Лариса Ерошкина марто.   \n",
       "2                                                                                                                                    Кортавсть финансонь иень прядовоманть туртов республикантень лезксэнь явомань кевкстематне.   \n",
       "3          Истя жо мольсь кортамо 2018 иень футболонь коряс масторлангонь чемпионатонтень анокстамонь мероприятиятнень финансированиядост, истя жо коммерческой займамотнень полавтоманть туртов бюджетэнь кредитэнь получамодо.   \n",
       "4                                                                                                Вастовомасонть ульнесь Мордовия Республикань Правительствань Председателень полавтыцясь - Финансонь министрась Алексей Симонов.   \n",
       "5  Владимир Волков истя жо вастовкшнось \"Альфа-Банконь\" Прявттнэнь советэнь председателень васенце полавтыцянть Олег Сысуев марто ды кортась мартонзо республиканть ды банконть вейсэнь важодемань виевгавтомань кевкстематнеде.   \n",
       "6                                                                                                                  Истя жо кортамось мольсь промышленностень ды велень хозяйствань прявт проекттнэнь туртов кредитэнь максомадо.   \n",
       "\n",
       "   tgt_sent_id  \\\n",
       "0            0   \n",
       "1            1   \n",
       "2            2   \n",
       "3            3   \n",
       "4            4   \n",
       "5            5   \n",
       "6            6   \n",
       "\n",
       "                                                                                                                                                                                  tgt_sent  \\\n",
       "0                                                                                                             Глава Мордовии Владимир Волков 14 ноября провел ряд рабочих встреч в Москве.   \n",
       "1                                                                   Состоялась встреча с руководителем департамента межбюджетных отношений министерства финансов России Ларисой Ерошкиной.   \n",
       "2                                                                                                       Обсуждались вопросы оказания поддержки республике для завершения финансового года.   \n",
       "3              В том числе речь шла о финансировании мероприятий подготовки к чемпионату мира по футболу 2018 года, а также получении бюджетного кредита на замещение коммерческих займов.   \n",
       "4                                                          В рабочей встрече принял участие заместитель Председателя Правительства – министр финансов Республики Мордовия Алексей Симонов.   \n",
       "5  Также Владимир Волков встретился с первым заместителем председателя Совета директоров «Альфа-Банка» Олегом Сысуевым и обсудил с ним вопросы развития сотрудничества республики и банка.   \n",
       "6                                                                                          В том числе речь шла о кредитовании ряда важных проектов в промышленности и сельском хозяйстве.   \n",
       "\n",
       "        sim  sim_pnlz      src_doc_hash      tgt_doc_hash  docs_sim  \n",
       "0  0.789928  0.446849  10bed7912eb506fb  593f0069fd2ae398  0.818254  \n",
       "1  0.917278  0.542011  10bed7912eb506fb  593f0069fd2ae398  0.818254  \n",
       "2  0.824726  0.468978  10bed7912eb506fb  593f0069fd2ae398  0.818254  \n",
       "3  0.753850  0.412966  10bed7912eb506fb  593f0069fd2ae398  0.818254  \n",
       "4  0.913352  0.530075  10bed7912eb506fb  593f0069fd2ae398  0.818254  \n",
       "5  0.800758  0.450117  10bed7912eb506fb  593f0069fd2ae398  0.818254  \n",
       "6  0.727886  0.378541  10bed7912eb506fb  593f0069fd2ae398  0.818254  "
      ]
     },
     "execution_count": 463,
     "metadata": {},
     "output_type": "execute_result"
    }
   ],
   "source": [
    "doc_df = align_docs(src_sents, tgt_sents, pair_ids, sims, sims_rel)\n",
    "doc_df['src_doc_hash'] = xxhash.xxh3_64_hexdigest(item['article_erz']['link'])\n",
    "doc_df['tgt_doc_hash'] = xxhash.xxh3_64_hexdigest(cand['link'])\n",
    "doc_df['docs_sim'] = doc_df.sim.fillna(0).mean()\n",
    "\n",
    "print('mean aligned penalized sim:', doc_df.sim_pnlz.mean())\n",
    "print('mean gross raw sim:        ', doc_df.sim.fillna(0).mean())\n",
    "\n",
    "\n",
    "doc_df"
   ]
  },
  {
   "cell_type": "markdown",
   "id": "33acdfd8",
   "metadata": {},
   "source": [
    "## Running it for the whole data"
   ]
  },
  {
   "cell_type": "code",
   "execution_count": 516,
   "id": "bf6b33ff",
   "metadata": {},
   "outputs": [
    {
     "name": "stdout",
     "output_type": "stream",
     "text": [
      "70433\n"
     ]
    }
   ],
   "source": [
    "print(sum(len(resentenize_article(item['article_erz']['text'])) for item in fn2data.values()))"
   ]
  },
  {
   "cell_type": "code",
   "execution_count": 517,
   "id": "6c6d95e8",
   "metadata": {},
   "outputs": [
    {
     "data": {
      "application/vnd.jupyter.widget-view+json": {
       "model_id": "2f9650e422904da19b338c31f9665d7c",
       "version_major": 2,
       "version_minor": 0
      },
      "text/plain": [
       "  0%|          | 0/4074 [00:00<?, ?it/s]"
      ]
     },
     "metadata": {},
     "output_type": "display_data"
    }
   ],
   "source": [
    "aligned_docs = []\n",
    "\n",
    "for fn in tqdm(list(fn2data.keys())):\n",
    "    item = fn2data[fn]\n",
    "    src_text = item['article_erz']['text']\n",
    "    for cand in item['article_rus_candidates']:\n",
    "        tgt_text = cand['text']\n",
    "        tgt_doc_id = xxhash.xxh3_64_intdigest(cand['link'])\n",
    "        \n",
    "        src_sents = resentenize_article(src_text)\n",
    "        tgt_sents = resentenize_article(tgt_text)\n",
    "        if len(tgt_sents) == 0:  # yes, this shit sometimes happens\n",
    "            continue\n",
    "        src_embs = embed(src_sents, model, tokenizer)\n",
    "        tgt_embs = embed(tgt_sents, model, tokenizer)\n",
    "\n",
    "        sims, sims_rel = get_penalized_sims(src_sents, tgt_sents, src_embs, tgt_embs, rel_penalty=0.2, abs_penalty=0.2)\n",
    "        pair_ids = align3(sims_rel)\n",
    "        \n",
    "        doc_df = align_docs(src_sents, tgt_sents, pair_ids, sims, sims_rel)\n",
    "        doc_df['src_doc_hash'] = xxhash.xxh3_64_hexdigest(item['article_erz']['link'])\n",
    "        doc_df['tgt_doc_hash'] = xxhash.xxh3_64_hexdigest(cand['link'])\n",
    "        doc_df['docs_sim'] = doc_df.sim.fillna(0).mean()\n",
    "        doc_df['src_id'] = int(fn[8:-5])\n",
    "        \n",
    "        aligned_docs.append(doc_df)"
   ]
  },
  {
   "cell_type": "code",
   "execution_count": 518,
   "id": "c3e2983e",
   "metadata": {},
   "outputs": [
    {
     "name": "stdout",
     "output_type": "stream",
     "text": [
      "(76400, 10)\n",
      "(57405, 10)\n"
     ]
    }
   ],
   "source": [
    "total_doc = pd.concat(aligned_docs, ignore_index=True)\n",
    "print(total_doc.shape)\n",
    "print(total_doc.dropna().shape)"
   ]
  },
  {
   "cell_type": "code",
   "execution_count": 519,
   "id": "4292d5c0",
   "metadata": {
    "scrolled": true
   },
   "outputs": [
    {
     "data": {
      "text/html": [
       "<div>\n",
       "<style scoped>\n",
       "    .dataframe tbody tr th:only-of-type {\n",
       "        vertical-align: middle;\n",
       "    }\n",
       "\n",
       "    .dataframe tbody tr th {\n",
       "        vertical-align: top;\n",
       "    }\n",
       "\n",
       "    .dataframe thead th {\n",
       "        text-align: right;\n",
       "    }\n",
       "</style>\n",
       "<table border=\"1\" class=\"dataframe\">\n",
       "  <thead>\n",
       "    <tr style=\"text-align: right;\">\n",
       "      <th></th>\n",
       "      <th>src_sent_id</th>\n",
       "      <th>src_sent</th>\n",
       "      <th>tgt_sent_id</th>\n",
       "      <th>tgt_sent</th>\n",
       "      <th>sim</th>\n",
       "      <th>sim_pnlz</th>\n",
       "      <th>src_doc_hash</th>\n",
       "      <th>tgt_doc_hash</th>\n",
       "      <th>docs_sim</th>\n",
       "      <th>src_id</th>\n",
       "    </tr>\n",
       "  </thead>\n",
       "  <tbody>\n",
       "    <tr>\n",
       "      <th>24645</th>\n",
       "      <td>3.0</td>\n",
       "      <td>Од заводсонть топавтови вишка сортонь чувтонть отходтомо переработкась, чувтонь отходтнэнь утилизациясь ды уштомань гранулатнень нолдамось, те эряви аволь ансяк предприятиянть туртов, истя жо канды покш смусть Мордовиянь чувтонь переработкань весе отраслянть туртов.</td>\n",
       "      <td>3.0</td>\n",
       "      <td>На новом заводе будет создана комплексная безотходная переработка низкосортной древесины, утилизация древесных отходов и выпуск топливных гранул, что важно не только для самого предприятия, но и имеет большое значение для всей деревообрабатывающей отрасли Мордовии.</td>\n",
       "      <td>0.891991</td>\n",
       "      <td>0.504467</td>\n",
       "      <td>4e8e758ba9e5162c</td>\n",
       "      <td>ad568b5205335fe6</td>\n",
       "      <td>0.708416</td>\n",
       "      <td>1307</td>\n",
       "    </tr>\n",
       "    <tr>\n",
       "      <th>26619</th>\n",
       "      <td>0.0</td>\n",
       "      <td>Эйзюрковонь 31-це чистэ Мордовиянь Прявтось Артём Здунов тешкстась Указ Образованиянь министракс Елена Солдатовань аравтомадонзо.</td>\n",
       "      <td>0.0</td>\n",
       "      <td>31 марта Главой Мордовии Артёмом Здуновым подписан Указ о назначении на должность Министра образования Елены Солдатовой.</td>\n",
       "      <td>0.806734</td>\n",
       "      <td>0.443940</td>\n",
       "      <td>d8c9c75ae42fcbbb</td>\n",
       "      <td>5106d524158fb55c</td>\n",
       "      <td>0.697077</td>\n",
       "      <td>1430</td>\n",
       "    </tr>\n",
       "    <tr>\n",
       "      <th>52140</th>\n",
       "      <td>0.0</td>\n",
       "      <td>Пецясто, сундерьковонь 15-це чистэ, Республикань культурань дворецссэ ютавтовсь Велень хозяйствань ды перерабатывающей промышленностень важодицянь чинтень алтазь кенярксчи.</td>\n",
       "      <td>NaN</td>\n",
       "      <td>NaN</td>\n",
       "      <td>NaN</td>\n",
       "      <td>NaN</td>\n",
       "      <td>07787e95c76d2303</td>\n",
       "      <td>4106754a99ab54ff</td>\n",
       "      <td>0.050387</td>\n",
       "      <td>3012</td>\n",
       "    </tr>\n",
       "    <tr>\n",
       "      <th>73186</th>\n",
       "      <td>117.0</td>\n",
       "      <td>Тень вельде велетнесэ строязь ды витнезь кинь 20 ламо километрат, витнезь китне велень хозяйствань продукциянь производствань ды переработкань объекттнэнь видьс.</td>\n",
       "      <td>NaN</td>\n",
       "      <td>NaN</td>\n",
       "      <td>NaN</td>\n",
       "      <td>NaN</td>\n",
       "      <td>17de74d1b7a8bbac</td>\n",
       "      <td>4585a92b222b7af4</td>\n",
       "      <td>0.057602</td>\n",
       "      <td>3971</td>\n",
       "    </tr>\n",
       "    <tr>\n",
       "      <th>25179</th>\n",
       "      <td>13.0</td>\n",
       "      <td>Аватнень ды сыре ломантнень марто вейсэ тылсэ покш сталмонть кандсть войнань эйкакштне.</td>\n",
       "      <td>13.0</td>\n",
       "      <td>Вместе с женщинами и стариками тяжелую ношу в тылу несли быстро повзрослевшие дети войны.</td>\n",
       "      <td>0.851429</td>\n",
       "      <td>0.459013</td>\n",
       "      <td>ede3428900f598f4</td>\n",
       "      <td>54586cbb1db0edb3</td>\n",
       "      <td>0.795758</td>\n",
       "      <td>1339</td>\n",
       "    </tr>\n",
       "    <tr>\n",
       "      <th>57768</th>\n",
       "      <td>14.0</td>\n",
       "      <td>Кортамс марто вейке кельсэ, ванномс те эли тона кевкстематнень ды неень шкантень ладиця технологиятнень», - тешкстызе «Оптиковолоконные Системы» АО-нь генеральной прявтось Андрей Николаев.</td>\n",
       "      <td>14.0</td>\n",
       "      <td>Разговаривать с ними на одном языке и компетентно обсуждать те или иные проблемы и современные технологии», - подчеркнул генеральный директор АО «Оптиковолоконные системы» Андрей Николаев.</td>\n",
       "      <td>0.923925</td>\n",
       "      <td>0.509879</td>\n",
       "      <td>6abcc5617fbb247a</td>\n",
       "      <td>e2830aed2ad1556c</td>\n",
       "      <td>0.779665</td>\n",
       "      <td>3279</td>\n",
       "    </tr>\n",
       "    <tr>\n",
       "      <th>47369</th>\n",
       "      <td>1.0</td>\n",
       "      <td>Медицинской маскатнень экшстэ а неявить мизолкстнэ.</td>\n",
       "      <td>1.0</td>\n",
       "      <td>Из-под медицинских масок не видно улыбок.</td>\n",
       "      <td>0.673439</td>\n",
       "      <td>0.339253</td>\n",
       "      <td>d9cc9be844f9a983</td>\n",
       "      <td>60f62168595f9680</td>\n",
       "      <td>0.325222</td>\n",
       "      <td>2799</td>\n",
       "    </tr>\n",
       "    <tr>\n",
       "      <th>43099</th>\n",
       "      <td>23.0</td>\n",
       "      <td>Мордовиянь Финансонь министрантень Сергей Тюркиннэнь кармавтозель тень кувалма ванномс ПДД-нь коламотнень кувалма административной штрафтнень республикань бюджетс пачтямонть: «Варштадо тень лангс, республикань финанстнэнь шумбралгавтомань программасонть тынь путтадо те пунктонть, мон сонзэ зярс ...</td>\n",
       "      <td>24.0</td>\n",
       "      <td>Министру финансов Мордовии Сергею Тюркину  в этой связи поручено разобраться с поступлением административных штрафов за нарушения ПДД в бюджет республики: «Обратите на это внимание, в программе оздоровления финансов республики вы ставите этот пункт, а я пока выполнения не вижу».</td>\n",
       "      <td>0.862900</td>\n",
       "      <td>0.489051</td>\n",
       "      <td>8d66a06f4c360425</td>\n",
       "      <td>72a4dbb63349b0f6</td>\n",
       "      <td>0.716698</td>\n",
       "      <td>2532</td>\n",
       "    </tr>\n",
       "    <tr>\n",
       "      <th>64404</th>\n",
       "      <td>0.0</td>\n",
       "      <td>Мордовиясь саизе колмоце тарканть социально-политической паро лув марто регионтнэнь ютксо.</td>\n",
       "      <td>0.0</td>\n",
       "      <td>Мордовия заняла третье место в группе регионов с максимальной социально-политической устойчивостью.</td>\n",
       "      <td>0.816746</td>\n",
       "      <td>0.456742</td>\n",
       "      <td>a757065d85394a0a</td>\n",
       "      <td>993a3086b4b04bed</td>\n",
       "      <td>0.831863</td>\n",
       "      <td>3556</td>\n",
       "    </tr>\n",
       "    <tr>\n",
       "      <th>1926</th>\n",
       "      <td>10.0</td>\n",
       "      <td>«Минь вейсэ!»</td>\n",
       "      <td>NaN</td>\n",
       "      <td>NaN</td>\n",
       "      <td>NaN</td>\n",
       "      <td>NaN</td>\n",
       "      <td>fb4a4e949892991d</td>\n",
       "      <td>75a0b733c229ed3b</td>\n",
       "      <td>0.070921</td>\n",
       "      <td>92</td>\n",
       "    </tr>\n",
       "  </tbody>\n",
       "</table>\n",
       "</div>"
      ],
      "text/plain": [
       "       src_sent_id  \\\n",
       "24645          3.0   \n",
       "26619          0.0   \n",
       "52140          0.0   \n",
       "73186        117.0   \n",
       "25179         13.0   \n",
       "57768         14.0   \n",
       "47369          1.0   \n",
       "43099         23.0   \n",
       "64404          0.0   \n",
       "1926          10.0   \n",
       "\n",
       "                                                                                                                                                                                                                                                                                                          src_sent  \\\n",
       "24645                                   Од заводсонть топавтови вишка сортонь чувтонть отходтомо переработкась, чувтонь отходтнэнь утилизациясь ды уштомань гранулатнень нолдамось, те эряви аволь ансяк предприятиянть туртов, истя жо канды покш смусть Мордовиянь чувтонь переработкань весе отраслянть туртов.   \n",
       "26619                                                                                                                                                                            Эйзюрковонь 31-це чистэ Мордовиянь Прявтось Артём Здунов тешкстась Указ Образованиянь министракс Елена Солдатовань аравтомадонзо.   \n",
       "52140                                                                                                                                 Пецясто, сундерьковонь 15-це чистэ, Республикань культурань дворецссэ ютавтовсь Велень хозяйствань ды перерабатывающей промышленностень важодицянь чинтень алтазь кенярксчи.   \n",
       "73186                                                                                                                                            Тень вельде велетнесэ строязь ды витнезь кинь 20 ламо километрат, витнезь китне велень хозяйствань продукциянь производствань ды переработкань объекттнэнь видьс.   \n",
       "25179                                                                                                                                                                                                                      Аватнень ды сыре ломантнень марто вейсэ тылсэ покш сталмонть кандсть войнань эйкакштне.   \n",
       "57768                                                                                                                 Кортамс марто вейке кельсэ, ванномс те эли тона кевкстематнень ды неень шкантень ладиця технологиятнень», - тешкстызе «Оптиковолоконные Системы» АО-нь генеральной прявтось Андрей Николаев.   \n",
       "47369                                                                                                                                                                                                                                                          Медицинской маскатнень экшстэ а неявить мизолкстнэ.   \n",
       "43099  Мордовиянь Финансонь министрантень Сергей Тюркиннэнь кармавтозель тень кувалма ванномс ПДД-нь коламотнень кувалма административной штрафтнень республикань бюджетс пачтямонть: «Варштадо тень лангс, республикань финанстнэнь шумбралгавтомань программасонть тынь путтадо те пунктонть, мон сонзэ зярс ...   \n",
       "64404                                                                                                                                                                                                                   Мордовиясь саизе колмоце тарканть социально-политической паро лув марто регионтнэнь ютксо.   \n",
       "1926                                                                                                                                                                                                                                                                                                 «Минь вейсэ!»   \n",
       "\n",
       "       tgt_sent_id  \\\n",
       "24645          3.0   \n",
       "26619          0.0   \n",
       "52140          NaN   \n",
       "73186          NaN   \n",
       "25179         13.0   \n",
       "57768         14.0   \n",
       "47369          1.0   \n",
       "43099         24.0   \n",
       "64404          0.0   \n",
       "1926           NaN   \n",
       "\n",
       "                                                                                                                                                                                                                                                                                      tgt_sent  \\\n",
       "24645                На новом заводе будет создана комплексная безотходная переработка низкосортной древесины, утилизация древесных отходов и выпуск топливных гранул, что важно не только для самого предприятия, но и имеет большое значение для всей деревообрабатывающей отрасли Мордовии.   \n",
       "26619                                                                                                                                                                 31 марта Главой Мордовии Артёмом Здуновым подписан Указ о назначении на должность Министра образования Елены Солдатовой.   \n",
       "52140                                                                                                                                                                                                                                                                                      NaN   \n",
       "73186                                                                                                                                                                                                                                                                                      NaN   \n",
       "25179                                                                                                                                                                                                Вместе с женщинами и стариками тяжелую ношу в тылу несли быстро повзрослевшие дети войны.   \n",
       "57768                                                                                             Разговаривать с ними на одном языке и компетентно обсуждать те или иные проблемы и современные технологии», - подчеркнул генеральный директор АО «Оптиковолоконные системы» Андрей Николаев.   \n",
       "47369                                                                                                                                                                                                                                                Из-под медицинских масок не видно улыбок.   \n",
       "43099  Министру финансов Мордовии Сергею Тюркину  в этой связи поручено разобраться с поступлением административных штрафов за нарушения ПДД в бюджет республики: «Обратите на это внимание, в программе оздоровления финансов республики вы ставите этот пункт, а я пока выполнения не вижу».   \n",
       "64404                                                                                                                                                                                      Мордовия заняла третье место в группе регионов с максимальной социально-политической устойчивостью.   \n",
       "1926                                                                                                                                                                                                                                                                                       NaN   \n",
       "\n",
       "            sim  sim_pnlz      src_doc_hash      tgt_doc_hash  docs_sim  \\\n",
       "24645  0.891991  0.504467  4e8e758ba9e5162c  ad568b5205335fe6  0.708416   \n",
       "26619  0.806734  0.443940  d8c9c75ae42fcbbb  5106d524158fb55c  0.697077   \n",
       "52140       NaN       NaN  07787e95c76d2303  4106754a99ab54ff  0.050387   \n",
       "73186       NaN       NaN  17de74d1b7a8bbac  4585a92b222b7af4  0.057602   \n",
       "25179  0.851429  0.459013  ede3428900f598f4  54586cbb1db0edb3  0.795758   \n",
       "57768  0.923925  0.509879  6abcc5617fbb247a  e2830aed2ad1556c  0.779665   \n",
       "47369  0.673439  0.339253  d9cc9be844f9a983  60f62168595f9680  0.325222   \n",
       "43099  0.862900  0.489051  8d66a06f4c360425  72a4dbb63349b0f6  0.716698   \n",
       "64404  0.816746  0.456742  a757065d85394a0a  993a3086b4b04bed  0.831863   \n",
       "1926        NaN       NaN  fb4a4e949892991d  75a0b733c229ed3b  0.070921   \n",
       "\n",
       "       src_id  \n",
       "24645    1307  \n",
       "26619    1430  \n",
       "52140    3012  \n",
       "73186    3971  \n",
       "25179    1339  \n",
       "57768    3279  \n",
       "47369    2799  \n",
       "43099    2532  \n",
       "64404    3556  \n",
       "1926       92  "
      ]
     },
     "execution_count": 519,
     "metadata": {},
     "output_type": "execute_result"
    }
   ],
   "source": [
    "total_doc.sample(10)"
   ]
  },
  {
   "cell_type": "code",
   "execution_count": 520,
   "id": "44cbb945",
   "metadata": {},
   "outputs": [
    {
     "data": {
      "image/png": "[encoded data removed]",
      "text/plain": [
       "<Figure size 432x288 with 1 Axes>"
      ]
     },
     "metadata": {
      "needs_background": "light"
     },
     "output_type": "display_data"
    }
   ],
   "source": [
    "total_doc.sim.hist(bins=100);"
   ]
  },
  {
   "cell_type": "code",
   "execution_count": 521,
   "id": "86fc0f28",
   "metadata": {},
   "outputs": [
    {
     "data": {
      "image/png": "[encoded data removed]",
      "text/plain": [
       "<Figure size 432x288 with 1 Axes>"
      ]
     },
     "metadata": {
      "needs_background": "light"
     },
     "output_type": "display_data"
    }
   ],
   "source": [
    "total_doc.docs_sim.hist(bins=100);"
   ]
  },
  {
   "cell_type": "code",
   "execution_count": 522,
   "id": "8b6e1267",
   "metadata": {},
   "outputs": [
    {
     "data": {
      "text/html": [
       "<div>\n",
       "<style scoped>\n",
       "    .dataframe tbody tr th:only-of-type {\n",
       "        vertical-align: middle;\n",
       "    }\n",
       "\n",
       "    .dataframe tbody tr th {\n",
       "        vertical-align: top;\n",
       "    }\n",
       "\n",
       "    .dataframe thead th {\n",
       "        text-align: right;\n",
       "    }\n",
       "</style>\n",
       "<table border=\"1\" class=\"dataframe\">\n",
       "  <thead>\n",
       "    <tr style=\"text-align: right;\">\n",
       "      <th></th>\n",
       "      <th>src_sent_id</th>\n",
       "      <th>tgt_sent_id</th>\n",
       "      <th>sim</th>\n",
       "      <th>sim_pnlz</th>\n",
       "      <th>docs_sim</th>\n",
       "      <th>src_id</th>\n",
       "    </tr>\n",
       "  </thead>\n",
       "  <tbody>\n",
       "    <tr>\n",
       "      <th>count</th>\n",
       "      <td>64809.000000</td>\n",
       "      <td>68996.000000</td>\n",
       "      <td>57405.000000</td>\n",
       "      <td>57405.000000</td>\n",
       "      <td>76400.000000</td>\n",
       "      <td>76400.000000</td>\n",
       "    </tr>\n",
       "    <tr>\n",
       "      <th>mean</th>\n",
       "      <td>17.123393</td>\n",
       "      <td>34.259305</td>\n",
       "      <td>0.780551</td>\n",
       "      <td>0.410816</td>\n",
       "      <td>0.586486</td>\n",
       "      <td>2120.939725</td>\n",
       "    </tr>\n",
       "    <tr>\n",
       "      <th>std</th>\n",
       "      <td>27.735198</td>\n",
       "      <td>103.646288</td>\n",
       "      <td>0.133926</td>\n",
       "      <td>0.121365</td>\n",
       "      <td>0.283416</td>\n",
       "      <td>1236.720796</td>\n",
       "    </tr>\n",
       "    <tr>\n",
       "      <th>min</th>\n",
       "      <td>0.000000</td>\n",
       "      <td>0.000000</td>\n",
       "      <td>0.095246</td>\n",
       "      <td>-0.200625</td>\n",
       "      <td>0.001989</td>\n",
       "      <td>0.000000</td>\n",
       "    </tr>\n",
       "    <tr>\n",
       "      <th>25%</th>\n",
       "      <td>4.000000</td>\n",
       "      <td>4.000000</td>\n",
       "      <td>0.727776</td>\n",
       "      <td>0.361836</td>\n",
       "      <td>0.532172</td>\n",
       "      <td>974.000000</td>\n",
       "    </tr>\n",
       "    <tr>\n",
       "      <th>50%</th>\n",
       "      <td>9.000000</td>\n",
       "      <td>10.000000</td>\n",
       "      <td>0.814990</td>\n",
       "      <td>0.438253</td>\n",
       "      <td>0.720006</td>\n",
       "      <td>2161.000000</td>\n",
       "    </tr>\n",
       "    <tr>\n",
       "      <th>75%</th>\n",
       "      <td>18.000000</td>\n",
       "      <td>21.000000</td>\n",
       "      <td>0.874128</td>\n",
       "      <td>0.493062</td>\n",
       "      <td>0.779716</td>\n",
       "      <td>3238.000000</td>\n",
       "    </tr>\n",
       "    <tr>\n",
       "      <th>max</th>\n",
       "      <td>313.000000</td>\n",
       "      <td>1106.000000</td>\n",
       "      <td>1.000000</td>\n",
       "      <td>0.719886</td>\n",
       "      <td>0.932678</td>\n",
       "      <td>4072.000000</td>\n",
       "    </tr>\n",
       "  </tbody>\n",
       "</table>\n",
       "</div>"
      ],
      "text/plain": [
       "        src_sent_id   tgt_sent_id           sim      sim_pnlz      docs_sim  \\\n",
       "count  64809.000000  68996.000000  57405.000000  57405.000000  76400.000000   \n",
       "mean      17.123393     34.259305      0.780551      0.410816      0.586486   \n",
       "std       27.735198    103.646288      0.133926      0.121365      0.283416   \n",
       "min        0.000000      0.000000      0.095246     -0.200625      0.001989   \n",
       "25%        4.000000      4.000000      0.727776      0.361836      0.532172   \n",
       "50%        9.000000     10.000000      0.814990      0.438253      0.720006   \n",
       "75%       18.000000     21.000000      0.874128      0.493062      0.779716   \n",
       "max      313.000000   1106.000000      1.000000      0.719886      0.932678   \n",
       "\n",
       "             src_id  \n",
       "count  76400.000000  \n",
       "mean    2120.939725  \n",
       "std     1236.720796  \n",
       "min        0.000000  \n",
       "25%      974.000000  \n",
       "50%     2161.000000  \n",
       "75%     3238.000000  \n",
       "max     4072.000000  "
      ]
     },
     "execution_count": 522,
     "metadata": {},
     "output_type": "execute_result"
    }
   ],
   "source": [
    "total_doc.describe()"
   ]
  },
  {
   "cell_type": "code",
   "execution_count": 527,
   "id": "52dd496e",
   "metadata": {},
   "outputs": [
    {
     "name": "stdout",
     "output_type": "stream",
     "text": [
      "(76400, 10)\n",
      "(18214, 10)\n"
     ]
    }
   ],
   "source": [
    "matched = total_doc[total_doc.src_id>=2790].dropna()\n",
    "print(total_doc.shape)\n",
    "print(matched.shape)"
   ]
  },
  {
   "cell_type": "code",
   "execution_count": 1,
   "id": "3184d9f1",
   "metadata": {},
   "outputs": [
    {
     "ename": "NameError",
     "evalue": "name 'types' is not defined",
     "output_type": "error",
     "traceback": [
      "\u001b[1;31m---------------------------------------------------------------------------\u001b[0m",
      "\u001b[1;31mNameError\u001b[0m                                 Traceback (most recent call last)",
      "\u001b[1;32m~\\AppData\\Local\\Temp/ipykernel_13948/4001005689.py\u001b[0m in \u001b[0;36m<module>\u001b[1;34m\u001b[0m\n\u001b[1;32m----> 1\u001b[1;33m \u001b[0mtypes\u001b[0m\u001b[1;33m\u001b[0m\u001b[1;33m\u001b[0m\u001b[0m\n\u001b[0m",
      "\u001b[1;31mNameError\u001b[0m: name 'types' is not defined"
     ]
    }
   ],
   "source": []
  },
  {
   "cell_type": "code",
   "execution_count": 528,
   "id": "0d56b121",
   "metadata": {},
   "outputs": [
    {
     "name": "stdout",
     "output_type": "stream",
     "text": [
      "(178, 10)\n"
     ]
    }
   ],
   "source": [
    "sample = pd.concat([\n",
    "    matched.groupby(matched.sim.round(2)).sample(1, random_state=1),\n",
    "    matched.groupby(matched.docs_sim.round(2)).sample(1, random_state=1),\n",
    "]).drop_duplicates().sample(frac=1.0, random_state=1)\n",
    "print(sample.shape)"
   ]
  },
  {
   "cell_type": "code",
   "execution_count": 550,
   "id": "e00d8e63",
   "metadata": {
    "scrolled": true
   },
   "outputs": [
    {
     "data": {
      "text/html": [
       "<div>\n",
       "<style scoped>\n",
       "    .dataframe tbody tr th:only-of-type {\n",
       "        vertical-align: middle;\n",
       "    }\n",
       "\n",
       "    .dataframe tbody tr th {\n",
       "        vertical-align: top;\n",
       "    }\n",
       "\n",
       "    .dataframe thead th {\n",
       "        text-align: right;\n",
       "    }\n",
       "</style>\n",
       "<table border=\"1\" class=\"dataframe\">\n",
       "  <thead>\n",
       "    <tr style=\"text-align: right;\">\n",
       "      <th></th>\n",
       "      <th>src_sent_id</th>\n",
       "      <th>src_sent</th>\n",
       "      <th>tgt_sent_id</th>\n",
       "      <th>tgt_sent</th>\n",
       "      <th>sim</th>\n",
       "      <th>sim_pnlz</th>\n",
       "      <th>src_doc_hash</th>\n",
       "      <th>tgt_doc_hash</th>\n",
       "      <th>docs_sim</th>\n",
       "      <th>src_id</th>\n",
       "    </tr>\n",
       "  </thead>\n",
       "  <tbody>\n",
       "    <tr>\n",
       "      <th>66151</th>\n",
       "      <td>13.0</td>\n",
       "      <td>Ды ней минек туртов арасть стяконь тевть, весемесь эрявикс, ды весементь эряви теемс пек вадрясто, улест лезэвекс Мордовиянь эрицятненень ламо иень перть».</td>\n",
       "      <td>12.0</td>\n",
       "      <td>И сейчас для нас нет мелочей, все важно, и все должно быть выполнено качественно, чтобы служить жителям Мордовии многие годы».</td>\n",
       "      <td>0.712207</td>\n",
       "      <td>0.375994</td>\n",
       "      <td>c2e23d9f08b42bd8</td>\n",
       "      <td>35383c355b71acef</td>\n",
       "      <td>0.759022</td>\n",
       "      <td>3648</td>\n",
       "    </tr>\n",
       "    <tr>\n",
       "      <th>75004</th>\n",
       "      <td>0.0</td>\n",
       "      <td>Республикань мельвановикс эрицят!</td>\n",
       "      <td>0.0</td>\n",
       "      <td>Уважаемые жители Республики Мордовия!</td>\n",
       "      <td>0.633820</td>\n",
       "      <td>0.275799</td>\n",
       "      <td>19018eedc8e1b378</td>\n",
       "      <td>19e68dd11dc7254b</td>\n",
       "      <td>0.306470</td>\n",
       "      <td>3997</td>\n",
       "    </tr>\n",
       "    <tr>\n",
       "      <th>76155</th>\n",
       "      <td>1.0</td>\n",
       "      <td>Мордовиянь Прявтось Владимир Волков ёвтась поздоровт фестивалень участниктненень ды явшесь казнеть.</td>\n",
       "      <td>2.0</td>\n",
       "      <td>Вы показали лучший результат среди россиян и второй результат в мире среди представителей 50 государств.</td>\n",
       "      <td>0.325920</td>\n",
       "      <td>0.007760</td>\n",
       "      <td>ea2ec391e58d8124</td>\n",
       "      <td>2b4adc1b47d92c11</td>\n",
       "      <td>0.040683</td>\n",
       "      <td>4060</td>\n",
       "    </tr>\n",
       "    <tr>\n",
       "      <th>60505</th>\n",
       "      <td>19.0</td>\n",
       "      <td>– Аволь умок Саранскойэ ютавтовсь Ламо квартирань кудотнень вейсэнь ули-паронть педе пев витнемань коряс весероссиянь промксось.</td>\n",
       "      <td>19.0</td>\n",
       "      <td>- Недавно в Саранске прошло очередное Всероссийское совещание по капитальному ремонту общего имущества многоквартирных домов.</td>\n",
       "      <td>0.825938</td>\n",
       "      <td>0.430153</td>\n",
       "      <td>c7e6450fd1fbd226</td>\n",
       "      <td>55caefddb99f01b3</td>\n",
       "      <td>0.806773</td>\n",
       "      <td>3344</td>\n",
       "    </tr>\n",
       "    <tr>\n",
       "      <th>55848</th>\n",
       "      <td>8.0</td>\n",
       "      <td>Машинатне максовить велесэ эриця 65 иеде седе сыре ломантнень медицинань организациятнес ускомс, косо сынь ютавтыть медицинань обследованият.</td>\n",
       "      <td>8.0</td>\n",
       "      <td>Машины предназначены, прежде всего, для доставки граждан старше 65 лет, проживающих в сельской местности, в медицинские организации для проведения дополнительных медицинских обследований.</td>\n",
       "      <td>0.670349</td>\n",
       "      <td>0.266651</td>\n",
       "      <td>66eed800a31b83f3</td>\n",
       "      <td>a72afc85b5281155</td>\n",
       "      <td>0.705722</td>\n",
       "      <td>3173</td>\n",
       "    </tr>\n",
       "    <tr>\n",
       "      <th>54303</th>\n",
       "      <td>19.0</td>\n",
       "      <td>Полавтоматнень юрсо – эйкакшт ды тонавтыцят.</td>\n",
       "      <td>19.0</td>\n",
       "      <td>В центре преобразования – дети и педагоги.</td>\n",
       "      <td>0.765743</td>\n",
       "      <td>0.382223</td>\n",
       "      <td>45262754472b3cc6</td>\n",
       "      <td>253d382ef0967808</td>\n",
       "      <td>0.532172</td>\n",
       "      <td>3102</td>\n",
       "    </tr>\n",
       "    <tr>\n",
       "      <th>53086</th>\n",
       "      <td>8.0</td>\n",
       "      <td>Мордовиясь ули федеральной 56 проекттнэсэ, конат аштить раськенсетнень пельксэкс.</td>\n",
       "      <td>6.0</td>\n",
       "      <td>Мордовия участвует в 56 федеральных проектах, которые являются частью национальных.</td>\n",
       "      <td>0.882590</td>\n",
       "      <td>0.540147</td>\n",
       "      <td>9df8c638c83d7710</td>\n",
       "      <td>43c0b8b67e53c78f</td>\n",
       "      <td>0.256739</td>\n",
       "      <td>3045</td>\n",
       "    </tr>\n",
       "    <tr>\n",
       "      <th>51879</th>\n",
       "      <td>1.0</td>\n",
       "      <td>Ёвтан седейшкавань поздоровт Тыненк ды Ёроков эйкакштнень туртов республикань лицеень тонавтыцятненень Раськеютконь естественнонаучной XVI олимпиадасонть сиянь медалень саеманть кувалма.</td>\n",
       "      <td>0.0</td>\n",
       "      <td>24 декабря в прямом  эфире телеканала НТМ в 19.00 состоится интервью Главы Республики Мордовия В.Д. Волкова, в котором он подведет итоги уходящего года и ответит на вопросы жителей республики.</td>\n",
       "      <td>0.275871</td>\n",
       "      <td>-0.001875</td>\n",
       "      <td>cad4d1008300479b</td>\n",
       "      <td>1737a53a0cc56d64</td>\n",
       "      <td>0.053784</td>\n",
       "      <td>2999</td>\n",
       "    </tr>\n",
       "    <tr>\n",
       "      <th>61246</th>\n",
       "      <td>2.0</td>\n",
       "      <td>Тешкстазель, раськень проекттнэнь лангсо важодемась юты практикань пельксэнтень.</td>\n",
       "      <td>2.0</td>\n",
       "      <td>Было отмечено, что работа над национальными проектами переходит в практическую плоскость.</td>\n",
       "      <td>0.807120</td>\n",
       "      <td>0.445271</td>\n",
       "      <td>c9454245e8ca70f8</td>\n",
       "      <td>5d61b1ba20468736</td>\n",
       "      <td>0.748074</td>\n",
       "      <td>3383</td>\n",
       "    </tr>\n",
       "    <tr>\n",
       "      <th>54232</th>\n",
       "      <td>0.0</td>\n",
       "      <td>Проектэсь лезды киртямс куломатнень од теевкстнэнь эйстэ, истя жо зыянонсетнень, 2024 иентень 100 тёжат эрицяс – 168 тевтнень самс.</td>\n",
       "      <td>1.0</td>\n",
       "      <td>Проект позволит также повысить качество оказания первичной медико-санитарной помощи детям, улучшить их репродуктивное здоровье.</td>\n",
       "      <td>0.434748</td>\n",
       "      <td>0.106422</td>\n",
       "      <td>345b2d29404e77e7</td>\n",
       "      <td>4d38a61e3d47c414</td>\n",
       "      <td>0.211539</td>\n",
       "      <td>3097</td>\n",
       "    </tr>\n",
       "    <tr>\n",
       "      <th>65852</th>\n",
       "      <td>0.0</td>\n",
       "      <td>Мордовиянь Прявтось Владимир Волков апрелень 17-це чистэ Московсо вастневсь «ЕВРОЦЕМЕНТ груп» холдингень прявтонь Советэнь председателенть Филарет Гальчев марто.</td>\n",
       "      <td>4.0</td>\n",
       "      <td>Прежде всего, это обеспечение порядка в жилищно-коммунальном хозяйстве, благоустройство городов и сел, развитие социальной инфраструктуры поселений.</td>\n",
       "      <td>0.245988</td>\n",
       "      <td>-0.054174</td>\n",
       "      <td>9249d212450acfc9</td>\n",
       "      <td>eb8eb58fcd76ba5e</td>\n",
       "      <td>0.058890</td>\n",
       "      <td>3629</td>\n",
       "    </tr>\n",
       "    <tr>\n",
       "      <th>63687</th>\n",
       "      <td>0.0</td>\n",
       "      <td>Пецясто, сентябрянь 21-це чистэ, Мордовиянь Прявтось Владимир Волков ульнесть Мордовия Республикань Государственной Собраниянь 6-це тердемань сессиясонть.</td>\n",
       "      <td>0.0</td>\n",
       "      <td>17 сентября состоялась сессия Госсобрания РМ.</td>\n",
       "      <td>0.171801</td>\n",
       "      <td>-0.153653</td>\n",
       "      <td>c3b00e78ab0448ee</td>\n",
       "      <td>b2e44226a20c7793</td>\n",
       "      <td>0.094491</td>\n",
       "      <td>3516</td>\n",
       "    </tr>\n",
       "    <tr>\n",
       "      <th>75818</th>\n",
       "      <td>0.0</td>\n",
       "      <td>Мордовиянь Прявтось Владимир Волков республикань весе эрицятнень пельде ёвтась ризкс Ту-154 самолётонть прамсто маштовозетнень малавиксэст туртов «Республикань весе эрицятнень ды эсень пельде ёвтан седейшкавань ризкс маштовозетнень весе малавиксэст, ялгаст ды мартост важодицятнень туртов.</td>\n",
       "      <td>1.0</td>\n",
       "      <td>Народ Мордовии вместе с вами, вместе со всей Россией глубоко скорбит по поводу трагической гибели людей в результате авиакатастрофы 25 декабря в Сочи.</td>\n",
       "      <td>0.278709</td>\n",
       "      <td>-0.006976</td>\n",
       "      <td>ae03edb474fee107</td>\n",
       "      <td>7b64d7b5e0bdc4d1</td>\n",
       "      <td>0.221868</td>\n",
       "      <td>4044</td>\n",
       "    </tr>\n",
       "    <tr>\n",
       "      <th>53986</th>\n",
       "      <td>12.0</td>\n",
       "      <td>Те иень таштамковсто МГПИ-сэ ушодовсь бассейнань строямось.</td>\n",
       "      <td>12.0</td>\n",
       "      <td>Речь шла о строительстве бассейна на площадке МГПИ, начатом в сентябре текущего года.</td>\n",
       "      <td>0.562897</td>\n",
       "      <td>0.221985</td>\n",
       "      <td>c1a99e7dead6d818</td>\n",
       "      <td>38a2f1a63f509adf</td>\n",
       "      <td>0.764484</td>\n",
       "      <td>3077</td>\n",
       "    </tr>\n",
       "    <tr>\n",
       "      <th>48878</th>\n",
       "      <td>18.0</td>\n",
       "      <td>Невтемакс, «Рузаевская фабрика РВ», «Мордовские узоры», «Саранский ДСК», «НоваторСтрой».</td>\n",
       "      <td>18.0</td>\n",
       "      <td>Например, «Рузаевская фабрика РВ», «Мордовские узоры», «Саранский ДСК», «НоваторСтрой».</td>\n",
       "      <td>0.977398</td>\n",
       "      <td>0.603542</td>\n",
       "      <td>34fe3373b5724503</td>\n",
       "      <td>5486d245a1f4f229</td>\n",
       "      <td>0.674780</td>\n",
       "      <td>2851</td>\n",
       "    </tr>\n",
       "    <tr>\n",
       "      <th>51851</th>\n",
       "      <td>6.0</td>\n",
       "      <td>Мордовиясь ули федеральной 56 проекттнэсэ, конат аштить раськенсетнень пельксэкс.</td>\n",
       "      <td>8.0</td>\n",
       "      <td>Мордовия участвует в 56 федеральных проектах, которые являются частью национальных.</td>\n",
       "      <td>0.882590</td>\n",
       "      <td>0.536032</td>\n",
       "      <td>c32a66fab445eb31</td>\n",
       "      <td>55e7cd25f77c7150</td>\n",
       "      <td>0.266538</td>\n",
       "      <td>2997</td>\n",
       "    </tr>\n",
       "    <tr>\n",
       "      <th>72061</th>\n",
       "      <td>31.0</td>\n",
       "      <td>Республикасонть явови покш мель тесэ эриця раськетнень культураст, келест, коест ванстомантень ды сюпалгавтомантень.</td>\n",
       "      <td>31.0</td>\n",
       "      <td>Республика проявляет заботу о развитии культуры, языка и национальных традиций каждого народа, живущего здесь.</td>\n",
       "      <td>0.805200</td>\n",
       "      <td>0.408361</td>\n",
       "      <td>b99e03318e1e9755</td>\n",
       "      <td>2a4355203b37317c</td>\n",
       "      <td>0.674570</td>\n",
       "      <td>3912</td>\n",
       "    </tr>\n",
       "    <tr>\n",
       "      <th>76150</th>\n",
       "      <td>8.0</td>\n",
       "      <td>Тиринь масторонь вечкевикс эрицят!</td>\n",
       "      <td>8.0</td>\n",
       "      <td>Дорогие сограждане!</td>\n",
       "      <td>0.491008</td>\n",
       "      <td>0.178003</td>\n",
       "      <td>528fd3a2d25f63d6</td>\n",
       "      <td>125282205c212bcd</td>\n",
       "      <td>0.778387</td>\n",
       "      <td>4059</td>\n",
       "    </tr>\n",
       "    <tr>\n",
       "      <th>68891</th>\n",
       "      <td>8.0</td>\n",
       "      <td>Самай сестэ, Конституциянь проектэнть анокстамсто ды, седе пек, весе эрицятнень марто сонзэ ванномсто-кортамсто, кемекставсть ды виевгавтовсть минек республикасо конструктивной весе вийтне.</td>\n",
       "      <td>3.0</td>\n",
       "      <td>От эффективной работы предприятий зависят благополучие тысяч жителей республики, формирование бюджетов всех уровней, инвестиционная привлекательность региона.</td>\n",
       "      <td>0.385262</td>\n",
       "      <td>0.059319</td>\n",
       "      <td>1a70afe9567bdc89</td>\n",
       "      <td>ad1f0611a9944de9</td>\n",
       "      <td>0.186664</td>\n",
       "      <td>3797</td>\n",
       "    </tr>\n",
       "    <tr>\n",
       "      <th>53615</th>\n",
       "      <td>104.0</td>\n",
       "      <td>«Устойчивое развитие сельских территорий» федеральной программанть лувсо топавтозь тевть Ковылкинань ёнксонь Казенный Майдан велесэнть, прядови Ромоданово-Красный Узел-Липки кинь витнемась.</td>\n",
       "      <td>5.0</td>\n",
       "      <td>Особое внимание было уделено вопросам подготовки улично-дорожной сети к зимнему содержанию, готовности дорожно-эксплуатационных организаций к своевременной расчистке дорожного полотна.</td>\n",
       "      <td>0.452651</td>\n",
       "      <td>0.107270</td>\n",
       "      <td>a92b7e31a0b92e7c</td>\n",
       "      <td>9e078bac649a39d9</td>\n",
       "      <td>0.024632</td>\n",
       "      <td>3065</td>\n",
       "    </tr>\n",
       "  </tbody>\n",
       "</table>\n",
       "</div>"
      ],
      "text/plain": [
       "       src_sent_id  \\\n",
       "66151         13.0   \n",
       "75004          0.0   \n",
       "76155          1.0   \n",
       "60505         19.0   \n",
       "55848          8.0   \n",
       "54303         19.0   \n",
       "53086          8.0   \n",
       "51879          1.0   \n",
       "61246          2.0   \n",
       "54232          0.0   \n",
       "65852          0.0   \n",
       "63687          0.0   \n",
       "75818          0.0   \n",
       "53986         12.0   \n",
       "48878         18.0   \n",
       "51851          6.0   \n",
       "72061         31.0   \n",
       "76150          8.0   \n",
       "68891          8.0   \n",
       "53615        104.0   \n",
       "\n",
       "                                                                                                                                                                                                                                                                                                src_sent  \\\n",
       "66151                                                                                                                                        Ды ней минек туртов арасть стяконь тевть, весемесь эрявикс, ды весементь эряви теемс пек вадрясто, улест лезэвекс Мордовиянь эрицятненень ламо иень перть».   \n",
       "75004                                                                                                                                                                                                                                                                  Республикань мельвановикс эрицят!   \n",
       "76155                                                                                                                                                                                                Мордовиянь Прявтось Владимир Волков ёвтась поздоровт фестивалень участниктненень ды явшесь казнеть.   \n",
       "60505                                                                                                                                                                   – Аволь умок Саранскойэ ютавтовсь Ламо квартирань кудотнень вейсэнь ули-паронть педе пев витнемань коряс весероссиянь промксось.   \n",
       "55848                                                                                                                                                      Машинатне максовить велесэ эриця 65 иеде седе сыре ломантнень медицинань организациятнес ускомс, косо сынь ютавтыть медицинань обследованият.   \n",
       "54303                                                                                                                                                                                                                                                       Полавтоматнень юрсо – эйкакшт ды тонавтыцят.   \n",
       "53086                                                                                                                                                                                                                  Мордовиясь ули федеральной 56 проекттнэсэ, конат аштить раськенсетнень пельксэкс.   \n",
       "51879                                                                                                         Ёвтан седейшкавань поздоровт Тыненк ды Ёроков эйкакштнень туртов республикань лицеень тонавтыцятненень Раськеютконь естественнонаучной XVI олимпиадасонть сиянь медалень саеманть кувалма.   \n",
       "61246                                                                                                                                                                                                                   Тешкстазель, раськень проекттнэнь лангсо важодемась юты практикань пельксэнтень.   \n",
       "54232                                                                                                                                                                Проектэсь лезды киртямс куломатнень од теевкстнэнь эйстэ, истя жо зыянонсетнень, 2024 иентень 100 тёжат эрицяс – 168 тевтнень самс.   \n",
       "65852                                                                                                                                  Мордовиянь Прявтось Владимир Волков апрелень 17-це чистэ Московсо вастневсь «ЕВРОЦЕМЕНТ груп» холдингень прявтонь Советэнь председателенть Филарет Гальчев марто.   \n",
       "63687                                                                                                                                         Пецясто, сентябрянь 21-це чистэ, Мордовиянь Прявтось Владимир Волков ульнесть Мордовия Республикань Государственной Собраниянь 6-це тердемань сессиясонть.   \n",
       "75818  Мордовиянь Прявтось Владимир Волков республикань весе эрицятнень пельде ёвтась ризкс Ту-154 самолётонть прамсто маштовозетнень малавиксэст туртов «Республикань весе эрицятнень ды эсень пельде ёвтан седейшкавань ризкс маштовозетнень весе малавиксэст, ялгаст ды мартост важодицятнень туртов.   \n",
       "53986                                                                                                                                                                                                                                        Те иень таштамковсто МГПИ-сэ ушодовсь бассейнань строямось.   \n",
       "48878                                                                                                                                                                                                           Невтемакс, «Рузаевская фабрика РВ», «Мордовские узоры», «Саранский ДСК», «НоваторСтрой».   \n",
       "51851                                                                                                                                                                                                                  Мордовиясь ули федеральной 56 проекттнэсэ, конат аштить раськенсетнень пельксэкс.   \n",
       "72061                                                                                                                                                                               Республикасонть явови покш мель тесэ эриця раськетнень культураст, келест, коест ванстомантень ды сюпалгавтомантень.   \n",
       "76150                                                                                                                                                                                                                                                                 Тиринь масторонь вечкевикс эрицят!   \n",
       "68891                                                                                                      Самай сестэ, Конституциянь проектэнть анокстамсто ды, седе пек, весе эрицятнень марто сонзэ ванномсто-кортамсто, кемекставсть ды виевгавтовсть минек республикасо конструктивной весе вийтне.   \n",
       "53615                                                                                                      «Устойчивое развитие сельских территорий» федеральной программанть лувсо топавтозь тевть Ковылкинань ёнксонь Казенный Майдан велесэнть, прядови Ромоданово-Красный Узел-Липки кинь витнемась.   \n",
       "\n",
       "       tgt_sent_id  \\\n",
       "66151         12.0   \n",
       "75004          0.0   \n",
       "76155          2.0   \n",
       "60505         19.0   \n",
       "55848          8.0   \n",
       "54303         19.0   \n",
       "53086          6.0   \n",
       "51879          0.0   \n",
       "61246          2.0   \n",
       "54232          1.0   \n",
       "65852          4.0   \n",
       "63687          0.0   \n",
       "75818          1.0   \n",
       "53986         12.0   \n",
       "48878         18.0   \n",
       "51851          8.0   \n",
       "72061         31.0   \n",
       "76150          8.0   \n",
       "68891          3.0   \n",
       "53615          5.0   \n",
       "\n",
       "                                                                                                                                                                                               tgt_sent  \\\n",
       "66151                                                                    И сейчас для нас нет мелочей, все важно, и все должно быть выполнено качественно, чтобы служить жителям Мордовии многие годы».   \n",
       "75004                                                                                                                                                             Уважаемые жители Республики Мордовия!   \n",
       "76155                                                                                          Вы показали лучший результат среди россиян и второй результат в мире среди представителей 50 государств.   \n",
       "60505                                                                     - Недавно в Саранске прошло очередное Всероссийское совещание по капитальному ремонту общего имущества многоквартирных домов.   \n",
       "55848       Машины предназначены, прежде всего, для доставки граждан старше 65 лет, проживающих в сельской местности, в медицинские организации для проведения дополнительных медицинских обследований.   \n",
       "54303                                                                                                                                                        В центре преобразования – дети и педагоги.   \n",
       "53086                                                                                                               Мордовия участвует в 56 федеральных проектах, которые являются частью национальных.   \n",
       "51879  24 декабря в прямом  эфире телеканала НТМ в 19.00 состоится интервью Главы Республики Мордовия В.Д. Волкова, в котором он подведет итоги уходящего года и ответит на вопросы жителей республики.   \n",
       "61246                                                                                                         Было отмечено, что работа над национальными проектами переходит в практическую плоскость.   \n",
       "54232                                                                   Проект позволит также повысить качество оказания первичной медико-санитарной помощи детям, улучшить их репродуктивное здоровье.   \n",
       "65852                                              Прежде всего, это обеспечение порядка в жилищно-коммунальном хозяйстве, благоустройство городов и сел, развитие социальной инфраструктуры поселений.   \n",
       "63687                                                                                                                                                     17 сентября состоялась сессия Госсобрания РМ.   \n",
       "75818                                            Народ Мордовии вместе с вами, вместе со всей Россией глубоко скорбит по поводу трагической гибели людей в результате авиакатастрофы 25 декабря в Сочи.   \n",
       "53986                                                                                                             Речь шла о строительстве бассейна на площадке МГПИ, начатом в сентябре текущего года.   \n",
       "48878                                                                                                           Например, «Рузаевская фабрика РВ», «Мордовские узоры», «Саранский ДСК», «НоваторСтрой».   \n",
       "51851                                                                                                               Мордовия участвует в 56 федеральных проектах, которые являются частью национальных.   \n",
       "72061                                                                                    Республика проявляет заботу о развитии культуры, языка и национальных традиций каждого народа, живущего здесь.   \n",
       "76150                                                                                                                                                                               Дорогие сограждане!   \n",
       "68891                                    От эффективной работы предприятий зависят благополучие тысяч жителей республики, формирование бюджетов всех уровней, инвестиционная привлекательность региона.   \n",
       "53615          Особое внимание было уделено вопросам подготовки улично-дорожной сети к зимнему содержанию, готовности дорожно-эксплуатационных организаций к своевременной расчистке дорожного полотна.   \n",
       "\n",
       "            sim  sim_pnlz      src_doc_hash      tgt_doc_hash  docs_sim  \\\n",
       "66151  0.712207  0.375994  c2e23d9f08b42bd8  35383c355b71acef  0.759022   \n",
       "75004  0.633820  0.275799  19018eedc8e1b378  19e68dd11dc7254b  0.306470   \n",
       "76155  0.325920  0.007760  ea2ec391e58d8124  2b4adc1b47d92c11  0.040683   \n",
       "60505  0.825938  0.430153  c7e6450fd1fbd226  55caefddb99f01b3  0.806773   \n",
       "55848  0.670349  0.266651  66eed800a31b83f3  a72afc85b5281155  0.705722   \n",
       "54303  0.765743  0.382223  45262754472b3cc6  253d382ef0967808  0.532172   \n",
       "53086  0.882590  0.540147  9df8c638c83d7710  43c0b8b67e53c78f  0.256739   \n",
       "51879  0.275871 -0.001875  cad4d1008300479b  1737a53a0cc56d64  0.053784   \n",
       "61246  0.807120  0.445271  c9454245e8ca70f8  5d61b1ba20468736  0.748074   \n",
       "54232  0.434748  0.106422  345b2d29404e77e7  4d38a61e3d47c414  0.211539   \n",
       "65852  0.245988 -0.054174  9249d212450acfc9  eb8eb58fcd76ba5e  0.058890   \n",
       "63687  0.171801 -0.153653  c3b00e78ab0448ee  b2e44226a20c7793  0.094491   \n",
       "75818  0.278709 -0.006976  ae03edb474fee107  7b64d7b5e0bdc4d1  0.221868   \n",
       "53986  0.562897  0.221985  c1a99e7dead6d818  38a2f1a63f509adf  0.764484   \n",
       "48878  0.977398  0.603542  34fe3373b5724503  5486d245a1f4f229  0.674780   \n",
       "51851  0.882590  0.536032  c32a66fab445eb31  55e7cd25f77c7150  0.266538   \n",
       "72061  0.805200  0.408361  b99e03318e1e9755  2a4355203b37317c  0.674570   \n",
       "76150  0.491008  0.178003  528fd3a2d25f63d6  125282205c212bcd  0.778387   \n",
       "68891  0.385262  0.059319  1a70afe9567bdc89  ad1f0611a9944de9  0.186664   \n",
       "53615  0.452651  0.107270  a92b7e31a0b92e7c  9e078bac649a39d9  0.024632   \n",
       "\n",
       "       src_id  \n",
       "66151    3648  \n",
       "75004    3997  \n",
       "76155    4060  \n",
       "60505    3344  \n",
       "55848    3173  \n",
       "54303    3102  \n",
       "53086    3045  \n",
       "51879    2999  \n",
       "61246    3383  \n",
       "54232    3097  \n",
       "65852    3629  \n",
       "63687    3516  \n",
       "75818    4044  \n",
       "53986    3077  \n",
       "48878    2851  \n",
       "51851    2997  \n",
       "72061    3912  \n",
       "76150    4059  \n",
       "68891    3797  \n",
       "53615    3065  "
      ]
     },
     "execution_count": 550,
     "metadata": {},
     "output_type": "execute_result"
    }
   ],
   "source": [
    "sample.head(20)"
   ]
  },
  {
   "cell_type": "code",
   "execution_count": 490,
   "id": "d1ab29d2",
   "metadata": {},
   "outputs": [],
   "source": [
    "sample.to_csv('../../data-2023/raw/articles_sample.tsv', sep='\\t', index=None)"
   ]
  },
  {
   "cell_type": "code",
   "execution_count": 530,
   "id": "91471c02",
   "metadata": {},
   "outputs": [
    {
     "name": "stdout",
     "output_type": "stream",
     "text": [
      "(76400, 10)\n",
      "(57405, 10)\n"
     ]
    }
   ],
   "source": [
    "matched = total_doc.dropna()\n",
    "print(total_doc.shape)\n",
    "print(matched.shape)"
   ]
  },
  {
   "cell_type": "code",
   "execution_count": 548,
   "id": "4df06bae",
   "metadata": {},
   "outputs": [
    {
     "name": "stdout",
     "output_type": "stream",
     "text": [
      "(56036, 10)\n"
     ]
    }
   ],
   "source": [
    "matched_best = matched.groupby('src_id').apply(\n",
    "    lambda x: x[x.tgt_doc_hash == x.tgt_doc_hash.iloc[x.docs_sim.argmax()]]\n",
    ").reset_index(drop=True)\n",
    "print(matched_best.shape)"
   ]
  },
  {
   "cell_type": "code",
   "execution_count": 549,
   "id": "918a1af3",
   "metadata": {},
   "outputs": [
    {
     "data": {
      "text/plain": [
       "True"
      ]
     },
     "execution_count": 549,
     "metadata": {},
     "output_type": "execute_result"
    }
   ],
   "source": [
    "(matched.groupby('src_id').docs_sim.max() == matched_best.groupby('src_id').docs_sim.max()).all()"
   ]
  },
  {
   "cell_type": "markdown",
   "id": "6433d9ee",
   "metadata": {},
   "source": [
    "# Uploading"
   ]
  },
  {
   "cell_type": "code",
   "execution_count": 535,
   "id": "ac34ba3b",
   "metadata": {},
   "outputs": [
    {
     "data": {
      "text/plain": [
       "3503"
      ]
     },
     "execution_count": 535,
     "metadata": {},
     "output_type": "execute_result"
    }
   ],
   "source": [
    "total_doc.src_id.nunique()"
   ]
  },
  {
   "cell_type": "code",
   "execution_count": 531,
   "id": "f5470e6e",
   "metadata": {},
   "outputs": [],
   "source": [
    "from datasets import Dataset"
   ]
  },
  {
   "cell_type": "code",
   "execution_count": 532,
   "id": "cf8d9d22",
   "metadata": {},
   "outputs": [],
   "source": [
    "ds = Dataset.from_pandas(total_doc)"
   ]
  },
  {
   "cell_type": "code",
   "execution_count": 533,
   "id": "5863b652",
   "metadata": {},
   "outputs": [
    {
     "data": {
      "application/vnd.jupyter.widget-view+json": {
       "model_id": "fafbbeaa30de43c68422ca0e8b75d981",
       "version_major": 2,
       "version_minor": 0
      },
      "text/plain": [
       "Pushing dataset shards to the dataset hub:   0%|          | 0/1 [00:00<?, ?it/s]"
      ]
     },
     "metadata": {},
     "output_type": "display_data"
    },
    {
     "data": {
      "application/vnd.jupyter.widget-view+json": {
       "model_id": "320dd93dfd5840cdb43bf7fd8ea77c6d",
       "version_major": 2,
       "version_minor": 0
      },
      "text/plain": [
       "Creating parquet from Arrow format:   0%|          | 0/77 [00:00<?, ?ba/s]"
      ]
     },
     "metadata": {},
     "output_type": "display_data"
    },
    {
     "data": {
      "application/vnd.jupyter.widget-view+json": {
       "model_id": "69842b440f1d4730a0fec12bdb8c9cb8",
       "version_major": 2,
       "version_minor": 0
      },
      "text/plain": [
       "Deleting unused files from dataset repository:   0%|          | 0/1 [00:00<?, ?it/s]"
      ]
     },
     "metadata": {},
     "output_type": "display_data"
    },
    {
     "data": {
      "application/vnd.jupyter.widget-view+json": {
       "model_id": "5532d6fc6e4f4a92ac550a72998e16d7",
       "version_major": 2,
       "version_minor": 0
      },
      "text/plain": [
       "Downloading metadata:   0%|          | 0.00/717 [00:00<?, ?B/s]"
      ]
     },
     "metadata": {},
     "output_type": "display_data"
    },
    {
     "name": "stderr",
     "output_type": "stream",
     "text": [
      "Updating downloaded metadata with the new split.\n"
     ]
    }
   ],
   "source": [
    "ds.push_to_hub('slone/e-mordovia-articles-2023')"
   ]
  },
  {
   "cell_type": "code",
   "execution_count": null,
   "id": "c534511d",
   "metadata": {},
   "outputs": [],
   "source": []
  }
 ],
 "metadata": {
  "kernelspec": {
   "display_name": "Python 3 (ipykernel)",
   "language": "python",
   "name": "python3"
  },
  "language_info": {
   "codemirror_mode": {
    "name": "ipython",
    "version": 3
   },
   "file_extension": ".py",
   "mimetype": "text/x-python",
   "name": "python",
   "nbconvert_exporter": "python",
   "pygments_lexer": "ipython3",
   "version": "3.9.6"
  }
 },
 "nbformat": 4,
 "nbformat_minor": 5
}
